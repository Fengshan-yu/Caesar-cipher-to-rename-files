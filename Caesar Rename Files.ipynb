{
 "cells": [
  {
   "cell_type": "code",
   "execution_count": 2,
   "id": "7a6dc24a",
   "metadata": {},
   "outputs": [],
   "source": [
    "class ShiftValueError(ValueError):\n",
    "    pass\n",
    "\n",
    "def Cipher(text, x):\n",
    "\n",
    "    if x < 1:\n",
    "        raise ShiftValueError(\"shift_value too low.\")\n",
    "    elif x > 25:\n",
    "        raise ShiftValueError(\"shift_value too high.\")\n",
    "\n",
    "    cipher = \"\"   \n",
    "    for char in text:\n",
    "        if not char.isalpha():\n",
    "            code = chr(ord(char))\n",
    "        elif char.islower():\n",
    "            if ord(char)+x>=123:\n",
    "                code = chr(97+(ord(char)+x-123))\n",
    "            else:    \n",
    "                code = chr(ord(char)+x)\n",
    "        elif char.isupper():\n",
    "            if ord(char)+x>=91:\n",
    "                code = chr(65+(ord(char)+x-91))\n",
    "            else:\n",
    "                code = chr(ord(char)+x)\n",
    "        cipher+=code\n",
    "    return cipher\n",
    "\n",
    "def De_Cipher(text, x):\n",
    "    return Cipher(text, (26-x))"
   ]
  },
  {
   "cell_type": "code",
   "execution_count": 3,
   "id": "eb65de91",
   "metadata": {},
   "outputs": [
    {
     "name": "stdout",
     "output_type": "stream",
     "text": [
      "C:\\Dell\\UpdatePackage\\Log\n"
     ]
    }
   ],
   "source": [
    "import os\n",
    "os.chdir(\"C:\\\\Dell\\\\UpdatePackage\\\\Log\")\n",
    "\n",
    "print(os.getcwd())"
   ]
  },
  {
   "cell_type": "code",
   "execution_count": 8,
   "id": "08a899b5",
   "metadata": {},
   "outputs": [],
   "source": [
    "for file in os.listdir():\n",
    "    file_name, file_ext =os.path.splitext(file)\n",
    "    if file_ext == \".pdf\":\n",
    "        new_name = De_Cipher(file_name, 8)\n",
    "        new_file = new_name + file_ext\n",
    "        os.rename(file, new_file)\n",
    "        "
   ]
  },
  {
   "cell_type": "code",
   "execution_count": null,
   "id": "314eefaf",
   "metadata": {},
   "outputs": [],
   "source": []
  }
 ],
 "metadata": {
  "kernelspec": {
   "display_name": "Python 3 (ipykernel)",
   "language": "python",
   "name": "python3"
  },
  "language_info": {
   "codemirror_mode": {
    "name": "ipython",
    "version": 3
   },
   "file_extension": ".py",
   "mimetype": "text/x-python",
   "name": "python",
   "nbconvert_exporter": "python",
   "pygments_lexer": "ipython3",
   "version": "3.9.7"
  }
 },
 "nbformat": 4,
 "nbformat_minor": 5
}
